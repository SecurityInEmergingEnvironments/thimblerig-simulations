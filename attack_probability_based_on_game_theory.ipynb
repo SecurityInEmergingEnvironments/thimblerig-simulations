{
 "cells": [
  {
   "cell_type": "code",
   "execution_count": 5,
   "metadata": {
    "collapsed": true
   },
   "outputs": [],
   "source": [
    "COST_OF_ATTACK = 3\n",
    "COST_OF_RECON = 0\n",
    "BENEFIT_OF_ATTACK = 0.2\n",
    "LENGTH_OF_ATTACK = 10\n",
    "SERVER_LIFE_TIME = 8\n",
    "MAX_SERVER_LIFE_TIME = 434"
   ]
  },
  {
   "cell_type": "code",
   "execution_count": 9,
   "metadata": {},
   "outputs": [],
   "source": [
    "class Attacker(object):\n",
    "    def __init__(self):\n",
    "        self.cost_of_attack = COST_OF_ATTACK\n",
    "        self.cost_of_recon = COST_OF_RECON\n",
    "        self.benefit_of_attack = BENEFIT_OF_ATTACK\n",
    "        self.length_of_attack = LENGTH_OF_ATTACK\n",
    "        self.server_life_time = SERVER_LIFE_TIME\n",
    "        self.max_server_life_time = MAX_SERVER_LIFE_TIME\n",
    "\n",
    "    @property\n",
    "    def probability_of_attack(self):\n",
    "        pass\n",
    "\n",
    "    @property\n",
    "    def attack_reset(self):\n",
    "        return (self.benefit_of_attack * (self.server_life_time - self.length_of_attack)\n",
    "                - 1 * (self.cost_of_attack + self.cost_of_recon))\n",
    "\n",
    "    @property\n",
    "    def dont_attack_reset(self):\n",
    "        return (self.benefit_of_attack * 0\n",
    "                - 1 * (self.cost_of_attack * self.cost_of_recon))\n",
    "\n",
    "    @property\n",
    "    def attack_dont_reset(self):\n",
    "        return (self.benefit_of_attack * (self.max_server_life_time - self.length_of_attack)\n",
    "                - 1 * (self.cost_of_attack + self.cost_of_recon))\n",
    "\n",
    "    @property\n",
    "    def dont_attack_dont_reset(self):\n",
    "        return (self.benefit_of_attack * 0\n",
    "                - 1 * (self.cost_of_attack * 0 + self.cost_of_recon))"
   ]
  },
  {
   "cell_type": "code",
   "execution_count": 8,
   "metadata": {},
   "outputs": [
    {
     "data": {
      "text/plain": [
       "-3.4"
      ]
     },
     "execution_count": 8,
     "metadata": {},
     "output_type": "execute_result"
    }
   ],
   "source": [
    ""
   ]
  },
  {
   "cell_type": "code",
   "execution_count": null,
   "metadata": {},
   "outputs": [],
   "source": [
    ""
   ]
  }
 ],
 "metadata": {
  "kernelspec": {
   "display_name": "Python 2",
   "language": "python",
   "name": "python2"
  },
  "language_info": {
   "codemirror_mode": {
    "name": "ipython",
    "version": 2.0
   },
   "file_extension": ".py",
   "mimetype": "text/x-python",
   "name": "python",
   "nbconvert_exporter": "python",
   "pygments_lexer": "ipython2",
   "version": "2.7.6"
  }
 },
 "nbformat": 4,
 "nbformat_minor": 0
}